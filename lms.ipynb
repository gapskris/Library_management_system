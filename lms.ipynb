{
 "cells": [
  {
   "cell_type": "code",
   "execution_count": null,
   "id": "15466083-8482-453a-ad1b-daa7d946d1ab",
   "metadata": {
    "scrolled": true
   },
   "outputs": [
    {
     "name": "stdout",
     "output_type": "stream",
     "text": [
      "\u001b[1m\u001b[32mWelcome to IIT Guwahati Central Library\u001b[0m\n",
      "\u001b[1m\u001b[32mLogin to Continue\u001b[0m\n",
      "\u001b[1m\u001b[32mPress Q to quit Library Services\u001b[0m\n"
     ]
    },
    {
     "name": "stdin",
     "output_type": "stream",
     "text": [
      "Username gopal\n",
      "Password password\n"
     ]
    },
    {
     "name": "stdout",
     "output_type": "stream",
     "text": [
      "\u001b[1m\u001b[32mLogged in successfully\u001b[0m\n",
      "\n",
      "Welcome to IITG Library Management Services\n",
      "How can I help you!!\n",
      "Plese choose the below available services and select the appropriate option \n",
      " \n",
      "1 Total Available Books\n",
      "2 View Issued Books\n",
      "3 View Not Issued Books\n",
      "4 Add a Book\n",
      "5 Issue a Book\n",
      "6 Return a Book\n",
      "7 Exit\n"
     ]
    },
    {
     "name": "stdin",
     "output_type": "stream",
     "text": [
      "\n",
      "Enter Option: 5\n"
     ]
    },
    {
     "name": "stdout",
     "output_type": "stream",
     "text": [
      "5\n"
     ]
    },
    {
     "name": "stdin",
     "output_type": "stream",
     "text": [
      "\n",
      "Enter Book name: Book1\n",
      "\n",
      "Enter Book Author: Author2\n",
      "\n",
      "Enter Assignee : gopal\n"
     ]
    },
    {
     "name": "stdout",
     "output_type": "stream",
     "text": [
      "Author: Author2 Incorrect\n",
      "No Book found with name: Book1 and Author: Author2\n",
      "Book: Book1 with Author: ['Author1'] is available\n"
     ]
    },
    {
     "name": "stdin",
     "output_type": "stream",
     "text": [
      "Do you want to proceed ? \n",
      " Press Y/y or N/n \n"
     ]
    },
    {
     "name": "stdout",
     "output_type": "stream",
     "text": [
      "\n",
      "Welcome to IITG Library Management Services\n",
      "How can I help you!!\n",
      "Plese choose the below available services and select the appropriate option \n",
      " \n",
      "1 Total Available Books\n",
      "2 View Issued Books\n",
      "3 View Not Issued Books\n",
      "4 Add a Book\n",
      "5 Issue a Book\n",
      "6 Return a Book\n",
      "7 Exit\n"
     ]
    },
    {
     "name": "stdin",
     "output_type": "stream",
     "text": [
      "\n",
      "Enter Option: 5\n"
     ]
    },
    {
     "name": "stdout",
     "output_type": "stream",
     "text": [
      "5\n"
     ]
    },
    {
     "name": "stdin",
     "output_type": "stream",
     "text": [
      "\n",
      "Enter Book name: Book1\n",
      "\n",
      "Enter Book Author: Author2\n",
      "\n",
      "Enter Assignee : gopal\n"
     ]
    },
    {
     "name": "stdout",
     "output_type": "stream",
     "text": [
      "Author: Author2 Incorrect\n",
      "No Book found with name: Book1 and Author: Author2\n",
      "Book: Book1 with Author: ['Author1'] is available\n"
     ]
    },
    {
     "name": "stdin",
     "output_type": "stream",
     "text": [
      "Do you want to proceed ? \n",
      " Press Y/y or N/n y\n"
     ]
    },
    {
     "name": "stdout",
     "output_type": "stream",
     "text": [
      "Book Name:  Book1 with Author  Author2 has been assigned to  gopal succesfully\n",
      "\n",
      "\n",
      "Book Name: Book1\n",
      "Author_name: ['Author1']\n",
      "Assigned_To: gopal\n",
      "\n",
      "Book Name: Book2\n",
      "Author_name: ['Author2']\n",
      "Assigned_To: \n",
      "\n",
      "Book Name: Book3\n",
      "Author_name: ['Author3']\n",
      "Assigned_To: \n",
      "\n",
      "Book Name: Book4\n",
      "Author_name: ['Author4']\n",
      "Assigned_To: \n",
      "\n",
      "Book Name: Book5\n",
      "Author_name: ['Author5']\n",
      "Assigned_To: \n",
      "\n",
      "Welcome to IITG Library Management Services\n",
      "How can I help you!!\n",
      "Plese choose the below available services and select the appropriate option \n",
      " \n",
      "1 Total Available Books\n",
      "2 View Issued Books\n",
      "3 View Not Issued Books\n",
      "4 Add a Book\n",
      "5 Issue a Book\n",
      "6 Return a Book\n",
      "7 Exit\n"
     ]
    },
    {
     "name": "stdin",
     "output_type": "stream",
     "text": [
      "\n",
      "Enter Option: 5\n"
     ]
    },
    {
     "name": "stdout",
     "output_type": "stream",
     "text": [
      "5\n"
     ]
    },
    {
     "name": "stdin",
     "output_type": "stream",
     "text": [
      "\n",
      "Enter Book name: Book5\n",
      "\n",
      "Enter Book Author: asa\n",
      "\n",
      "Enter Assignee : as\n"
     ]
    },
    {
     "name": "stdout",
     "output_type": "stream",
     "text": [
      "Author: asa Incorrect\n",
      "No Book found with name: Book5 and Author: asa\n",
      "Book: Book5 with Author: ['Author5'] is available\n"
     ]
    },
    {
     "name": "stdin",
     "output_type": "stream",
     "text": [
      "Do you want to proceed ? \n",
      " Press Y/y or N/n y\n"
     ]
    },
    {
     "name": "stdout",
     "output_type": "stream",
     "text": [
      "Book Name:  Book5 with Author  asa has been assigned to  as succesfully\n",
      "\n",
      "\n",
      "Book Name: Book1\n",
      "Author_name: ['Author1']\n",
      "Assigned_To: gopal\n",
      "\n",
      "Book Name: Book2\n",
      "Author_name: ['Author2']\n",
      "Assigned_To: \n",
      "\n",
      "Book Name: Book3\n",
      "Author_name: ['Author3']\n",
      "Assigned_To: \n",
      "\n",
      "Book Name: Book4\n",
      "Author_name: ['Author4']\n",
      "Assigned_To: \n",
      "\n",
      "Book Name: Book5\n",
      "Author_name: ['Author5']\n",
      "Assigned_To: as\n",
      "\n",
      "Welcome to IITG Library Management Services\n",
      "How can I help you!!\n",
      "Plese choose the below available services and select the appropriate option \n",
      " \n",
      "1 Total Available Books\n",
      "2 View Issued Books\n",
      "3 View Not Issued Books\n",
      "4 Add a Book\n",
      "5 Issue a Book\n",
      "6 Return a Book\n",
      "7 Exit\n"
     ]
    },
    {
     "name": "stdin",
     "output_type": "stream",
     "text": [
      "\n",
      "Enter Option: 6\n"
     ]
    },
    {
     "name": "stdout",
     "output_type": "stream",
     "text": [
      "6\n",
      "Enter Book name and Author to return\n"
     ]
    },
    {
     "name": "stdin",
     "output_type": "stream",
     "text": [
      "Enter Book name: Book5\n",
      "Enter Book Author: asas\n"
     ]
    },
    {
     "name": "stdout",
     "output_type": "stream",
     "text": [
      "Book: Book5 with Author: asas doesnt exists in Book Store, can not returned. please check and return correct book\n",
      "\n",
      "Welcome to IITG Library Management Services\n",
      "How can I help you!!\n",
      "Plese choose the below available services and select the appropriate option \n",
      " \n",
      "1 Total Available Books\n",
      "2 View Issued Books\n",
      "3 View Not Issued Books\n",
      "4 Add a Book\n",
      "5 Issue a Book\n",
      "6 Return a Book\n",
      "7 Exit\n"
     ]
    },
    {
     "name": "stdin",
     "output_type": "stream",
     "text": [
      "\n",
      "Enter Option: 6\n"
     ]
    },
    {
     "name": "stdout",
     "output_type": "stream",
     "text": [
      "6\n",
      "Enter Book name and Author to return\n"
     ]
    },
    {
     "name": "stdin",
     "output_type": "stream",
     "text": [
      "Enter Book name: Book3\n",
      "Enter Book Author: Author3\n"
     ]
    },
    {
     "name": "stdout",
     "output_type": "stream",
     "text": [
      "Printing ['Author3']\n",
      "Records show  that Book: Book3 with Author: Author3 is Not assigned, can not returned. please check and return correct book\n",
      "\n",
      "Welcome to IITG Library Management Services\n",
      "How can I help you!!\n",
      "Plese choose the below available services and select the appropriate option \n",
      " \n",
      "1 Total Available Books\n",
      "2 View Issued Books\n",
      "3 View Not Issued Books\n",
      "4 Add a Book\n",
      "5 Issue a Book\n",
      "6 Return a Book\n",
      "7 Exit\n"
     ]
    },
    {
     "name": "stdin",
     "output_type": "stream",
     "text": [
      "\n",
      "Enter Option: 6\n"
     ]
    },
    {
     "name": "stdout",
     "output_type": "stream",
     "text": [
      "6\n",
      "Enter Book name and Author to return\n"
     ]
    },
    {
     "name": "stdin",
     "output_type": "stream",
     "text": [
      "Enter Book name: Book3\n",
      "Enter Book Author: Author3\n"
     ]
    },
    {
     "name": "stdout",
     "output_type": "stream",
     "text": [
      "Printing ['Author3']\n",
      "Records show  that Book: Book3 with Author: Author3 is Not assigned, can not returned. please check and return correct book\n",
      "\n",
      "Welcome to IITG Library Management Services\n",
      "How can I help you!!\n",
      "Plese choose the below available services and select the appropriate option \n",
      " \n",
      "1 Total Available Books\n",
      "2 View Issued Books\n",
      "3 View Not Issued Books\n",
      "4 Add a Book\n",
      "5 Issue a Book\n",
      "6 Return a Book\n",
      "7 Exit\n"
     ]
    },
    {
     "name": "stdin",
     "output_type": "stream",
     "text": [
      "\n",
      "Enter Option: 5\n"
     ]
    },
    {
     "name": "stdout",
     "output_type": "stream",
     "text": [
      "5\n"
     ]
    },
    {
     "name": "stdin",
     "output_type": "stream",
     "text": [
      "\n",
      "Enter Book name: Book3\n",
      "\n",
      "Enter Book Author: Author3\n",
      "\n",
      "Enter Assignee : gopal\n"
     ]
    },
    {
     "name": "stdout",
     "output_type": "stream",
     "text": [
      "Book Name:  Book3 with Author  Author3 has been assigned to  gopal succesfully\n",
      "\n",
      "\n",
      "Book Name: Book1\n",
      "Author_name: ['Author1']\n",
      "Assigned_To: gopal\n",
      "\n",
      "Book Name: Book2\n",
      "Author_name: ['Author2']\n",
      "Assigned_To: \n",
      "\n",
      "Book Name: Book3\n",
      "Author_name: ['Author3']\n",
      "Assigned_To: gopal\n",
      "\n",
      "Book Name: Book4\n",
      "Author_name: ['Author4']\n",
      "Assigned_To: \n",
      "\n",
      "Book Name: Book5\n",
      "Author_name: ['Author5']\n",
      "Assigned_To: as\n",
      "\n",
      "Welcome to IITG Library Management Services\n",
      "How can I help you!!\n",
      "Plese choose the below available services and select the appropriate option \n",
      " \n",
      "1 Total Available Books\n",
      "2 View Issued Books\n",
      "3 View Not Issued Books\n",
      "4 Add a Book\n",
      "5 Issue a Book\n",
      "6 Return a Book\n",
      "7 Exit\n"
     ]
    }
   ],
   "source": [
    "from termcolor import colored\n",
    "import sys\n",
    "\n",
    "def main():    \n",
    "    try:\n",
    "        welcome_msg()\n",
    "        user_input()\n",
    "        lms_management()\n",
    "        \n",
    "    except ZeroDivisionError:\n",
    "        print(\"You cant divide by Zero:, Try again\")\n",
    "    except ValueError:    \n",
    "        print(\"You cant divide by invalid value ,Try again with Valid\")\n",
    "    except Exception as e:\n",
    "        print(\"Some Unknown Error, Try Again\", e)\n",
    "    else: # if no error\n",
    "        print(\"Successfully Completed the task\")\n",
    "    finally:  # finally show\n",
    "        print(\"Program Developed by:Gopal\")\n",
    "\n",
    "def welcome_msg():\n",
    "     welcome_msg =\"Welcome to IIT Guwahati Central Library\"\n",
    "     print(colored(welcome_msg, 'green', attrs=['bold']))\n",
    "     #print(welcome_msg)    \n",
    "\n",
    "def user_input_generic():                      \n",
    "    user_name = \"admin\"\n",
    "    password = \"password123\"\n",
    "    u = input(\"Enter Username to Login:\")\n",
    "    p = input(\"Enter Password:\")\n",
    "    if u == user_name and p == password:\n",
    "        print(\"Thenk You for Providing Correct Username and Password\")\n",
    "    else:\n",
    "        print(\"please provide valid Username or Password\")             \n",
    "    \n",
    "def lms_management():\n",
    "    print(\"\\nWelcome to IITG Library Management Services\")\n",
    "    print(\"How can I help you!!\")\n",
    "    print(\"Plese choose the below available services and select the appropriate option \\n \")\n",
    "    avail_services()\n",
    "    option = input(\"\\nEnter Option:\")\n",
    "    if (option == \"1\"):\n",
    "        print(\"1\")\n",
    "        book_avail()                             # To show all Books available including issued and not issued\n",
    "        lms_management()\n",
    "    elif (option == \"2\"):\n",
    "        print(\"2\")\n",
    "        view_issued_books()                      #To show issued books, assigned to the users \n",
    "        lms_management()\n",
    "    elif (option == \"3\"):\n",
    "        print(\"3\")\n",
    "        view_not_issued_books()                   #To shows not issued books, that is available only books.\n",
    "        lms_management()\n",
    "    elif (option == \"4\"):\n",
    "        print(\"4\")\n",
    "        book_name = input(\"\\nEnter Book name:\")\n",
    "        auth_book = input(\"\\nEnter Book Author:\")\n",
    "        book_add(book_name,auth_book)             #To add new Books to the Library \n",
    "        lms_management()\n",
    "    elif (option == \"5\"):\n",
    "        print(\"5\")\n",
    "        book_name = input(\"\\nEnter Book name:\")\n",
    "        auth_book = input(\"\\nEnter Book Author:\")\n",
    "        asgn_book = input(\"\\nEnter Assignee :\")\n",
    "        issue_book(book_name,auth_book,asgn_book) #Assign a book to a user\n",
    "        lms_management()\n",
    "    elif (option == \"6\"):\n",
    "        print(\"6\")\n",
    "        print(\"Enter Book name and Author to return\")\n",
    "        book_name = input(\"Enter Book name:\")\n",
    "        auth_book = input(\"Enter Book Author:\")\n",
    "        return_book(book_name,auth_book)\n",
    "        lms_management()                      # Return a book back to Library\n",
    "    elif (option == \"7\"):\n",
    "        print(\"7\")\n",
    "        exit_program()\n",
    "    else:\n",
    "        option_check(option)                      #user Option Check \n",
    "        \n",
    "def option_check(opt_num):\n",
    "    options = (1,2,3,4,5,6,7)\n",
    "    if(opt_num not in options):\n",
    "        print(\"Wrong Option, please try again\\n\\n\")\n",
    "        lms_management()\n",
    "def avail_services():\n",
    "    services = [\"Total Available Books\", \"View Issued Books\",\"View Not Issued Books\", \"Add a Book\",\"Issue a Book\",\"Return a Book\", \"Exit\"]\n",
    "    for i, item in enumerate(services):        \n",
    "        print (i+1, item)\n",
    "        \n",
    "def book_avail():\n",
    "    print(\"Below are the list of books available\\n\")\n",
    "    book_store()   \n",
    "\n",
    "def view_issued_books():\n",
    "    #print(\"Below are the list of books Issued\\n\")\n",
    "    issued_books()\n",
    "    #book_store()   \n",
    "\n",
    "def view_not_issued_books():\n",
    "    print(\"Below are the list of books Not Issued\\n\")\n",
    "    not_issued_books()\n",
    "    #book_store()  \n",
    "def book_add(name,author):\n",
    "    update_master_library(name,author)    \n",
    "    \n",
    "def issue_book(name,author,asgn_book):\n",
    "    check_book_issue(name,author,asgn_book)  \n",
    "    \n",
    "def return_book(name,author):\n",
    "    ret_book(name,author)        \n",
    "    \n",
    "def exit_program():\n",
    "    print(\"Exiting The Services! Thank You\")\n",
    "    exit()\n",
    "\n",
    "#Fuction to check book status in master library before assigning\n",
    "def check_book_issue(name,author,asine):\n",
    "    if name in master_store:\n",
    "            #master_store[name] = {}\n",
    "            if(author in master_store[name][\"Author_name\"]):\n",
    "                if(master_store[name][\"Assigned_To\"] == \"\"):\n",
    "                    master_store[name][\"Assigned_To\"]= asine\n",
    "                    print(\"Book Name: \",name,\"with Author \", author, \"has been assigned to \",asine, \"succesfully\\n\")\n",
    "                    #book_store()\n",
    "                else:\n",
    "                    print(\"Book\",name,\"with\",author,\"already Assigned to\",master_store[name][\"Assigned_To\"])\n",
    "            else:\n",
    "                print(\"Author:\",author,\"Incorrect\")\n",
    "                print(\"No Book found with name:\",name,\"and Author:\",author)\n",
    "                if(master_store[name][\"Assigned_To\"] == \"\"):\n",
    "                    print(\"Book:\",name,\"with Author:\",master_store[name][\"Author_name\"], \"is available\")\n",
    "                    option = input(\"Do you want to proceed ? \\n Press Y/y or N/n\") \n",
    "                    if(option == \"Y\" or option == \"y\"):\n",
    "                        master_store[name][\"Assigned_To\"]= asine\n",
    "                        print(\"Book Name: \",name,\"with Author \", author, \"has been assigned to \",asine, \"succesfully\\n\")\n",
    "                        #book_store()\n",
    "                    elif (option == \"N\" or option == \"n\"):\n",
    "                        print(\"Please select the Options\\n\")\n",
    "                        lms_management()\n",
    "                #else:\n",
    "                    #print(\"Book Name: \",master_store[name],\"with Author \", master_store[name][\"Author_name\"], \"is already assigned to \",master_store[name][\"Assigned_To\"])                \n",
    "    else:\n",
    "        print(\"Book\",name,\"not found, Please provide correct Book Name\\n\")\n",
    "\n",
    "#Function to update the master library in case of add Books\n",
    "def update_master_library(name,author):\n",
    "    tmp_dict = {\"Author_name\":author, \"Assigned_To\":\"\"}\n",
    "    if (name not in master_store):\n",
    "            master_store[name] = {}\n",
    "            master_store[name][\"Author_name\"]= author\n",
    "            master_store[name][\"Assigned_To\"]= \"\"\n",
    "            print(\"New Book:\",name,\"Author_name: \",author, \"Added Successfully\\n Please check the Book List\\n\")\n",
    "            #book_store()\n",
    "    elif (name in master_store):\n",
    "            if(author not in master_store[name][\"Author_name\"]):\n",
    "                #master_store[name] = {}\n",
    "                master_store[name][\"Author_name\"].append(author)\n",
    "                master_store[name][\"Assigned_To\"]= \"\"\n",
    "                print(\"New Book:\",name,\"Author_name: \",author, \"Added Successfully\\n Please check the Book List\\n\")\n",
    "                #book_store()          \n",
    "        \n",
    "            else:\n",
    "                if(author in master_store[name][\"Author_name\"]):\n",
    "                    print(\"Book\",name,\"with\",author,\"Exists\")\n",
    "\n",
    "#Function to show books not issued in master library\n",
    "def not_issued_books():\n",
    "        books=[]\n",
    "        for i,j  in master_store.items():\n",
    "        #print(\"\\nBook Name:\", i)    \n",
    "        #for key in j:\n",
    "            if(j[\"Assigned_To\"] == \"\"):\n",
    "                #print(key + ':', j[key])\n",
    "                print(i,\" :not assigned to User\")\n",
    "                books.append(i)\n",
    "        print(books)\n",
    "\n",
    "#Function to issue a book and update master library\n",
    "def issued_books():\n",
    "        books=[]\n",
    "        for i,j  in master_store.items():\n",
    "        #print(\"\\nBook Name:\", i)    \n",
    "        #for key in j:\n",
    "            if(j[\"Assigned_To\"] != \"\"):\n",
    "                #print(key + ':', j[key])\n",
    "                print(i,\" Book is assigned to User\", j[\"Assigned_To\"])\n",
    "                books.append(i)\n",
    "        if(len(books) == 0):\n",
    "            print(\"No Books Assigned\\n\")\n",
    "        else:\n",
    "            print(books)\n",
    "\n",
    "#Function to return book and update the master library\n",
    "def ret_book(name,author):\n",
    "    if name in master_store:            \n",
    "            if(author in master_store[name][\"Author_name\"]):\n",
    "                if(master_store[name][\"Assigned_To\"] != \"\"):\n",
    "                    master_store[name][\"Assigned_To\"] = \"\"\n",
    "                    print(\"New Book:\",name,\"with Author_name: \",author, \"Successfully Returned\")\n",
    "                    #book_store()\n",
    "                else:\n",
    "                    print(\"Printing\",master_store[name][\"Author_name\"])\n",
    "                    print(\"Records show  that Book:\",name,\"with Author:\",author,\"is Not assigned, can not returned. please check and return correct book\")\n",
    "            else:\n",
    "                print(\"Book:\",name,\"with Author:\",author,\"doesnt exists in Book Store, can not returned. please check and return correct book\")\n",
    "                \n",
    "    else:\n",
    "        print(\"Book Name:\",name,\"doesnt exists in Book Store, are you sure this is correct Book Name.\")\n",
    "\n",
    "#Print the Book list\n",
    "def book_store():    \n",
    "    #print(type(dict))\n",
    "    for i,j  in master_store.items():\n",
    "        print(\"\\nBook Name:\", i)    \n",
    "        for key in j:\n",
    "            print(key + ':', j[key])   \n",
    "\n",
    "#dictionary to store the Books in library -master library\n",
    "master_store = {\n",
    "                \"Book1\":{\"Author_name\":[\"Author1\"], \"Assigned_To\":\"\"},\n",
    "                \"Book2\":{\"Author_name\":[\"Author2\"], \"Assigned_To\":\"\"}, \n",
    "                \"Book3\":{\"Author_name\":[\"Author3\"], \"Assigned_To\":\"\"},\n",
    "                \"Book4\":{\"Author_name\":[\"Author4\"], \"Assigned_To\":\"\"}, \n",
    "                \"Book5\":{\"Author_name\":[\"Author5\"], \"Assigned_To\":\"\"}\n",
    "               }\n",
    "\n",
    "def user_input():\n",
    "    print(colored(\"Login to Continue\",'green', attrs=['bold']))\n",
    "    print(colored(\"Press Q to quit Library Services\",'green', attrs=['bold']))\n",
    "    user = input(\"Username\")\n",
    "    if(user == \"Q\" or user == \"q\"):\n",
    "        exit_program()    \n",
    "    check(user)\n",
    "    password = input(\"Password\")\n",
    "    if(password == \"Q\" or password == \"q\"):\n",
    "        exit_program()\n",
    "    check(password) \n",
    "    check_credentials(user,password)\n",
    "    \n",
    "def check(data):\n",
    "    #print(type(data))    \n",
    "    d = data.find(\" \")\n",
    "    #print(d) \n",
    "    if(d >= 0 ):\n",
    "        print(\"Username or password has spaces, pls correct and reenter\")\n",
    "        user_input()\n",
    "\n",
    "#function to store passwords in a dictionary\n",
    "def read_credentials_dict(): \n",
    "    new_contents=[]\n",
    "    dict={}\n",
    "    dict[\"gopal\"]=\"password\"\n",
    "    dict[\"user1\"]=\"password1\"\n",
    "    dict[\"user2\"]=\"password2\"\n",
    "    dict[\"user3\"]=\"password3\"\n",
    "    dict[\"user4\"]=\"password4\"\n",
    "    for i,j in dict.items():\n",
    "        cont =[]\n",
    "        cont.append(i)\n",
    "        cont.append(j)\n",
    "        new_contents.append(cont)    \n",
    "    return(new_contents)\n",
    "\n",
    "#function to store passwords in a dictionary\n",
    "def read_credentials_file():\n",
    "    new_contents=[]\n",
    "    with open(\"login.txt\", \"r\") as file:\n",
    "        contents = file.readlines()\n",
    "        for line in contents:\n",
    "            fields = line.split(\",\")\n",
    "            fields[1] = fields[1].rstrip()\n",
    "            new_contents.append(fields)\n",
    "    return(new_contents)\n",
    "\n",
    "#function to validate usename and passwords\n",
    "def check_credentials(user,password):           \n",
    "    readlogins = read_credentials_dict()\n",
    "    #print(readlogins)\n",
    "    logged_in = False\n",
    "    for line in readlogins:\n",
    "        #print(\"line read:\",line)\n",
    "        if line[0] == user and logged_in == False:\n",
    "            if line[1] == password:\n",
    "                logged_in = True\n",
    "        if logged_in == True:\n",
    "            print(colored(\"Logged in successfully\",'green', attrs=['bold']))\n",
    "            logged_in = True\n",
    "            break\n",
    "    if(logged_in == False):\n",
    "        print(colored(\"Username and Password are incorrect\",'red', attrs=['bold']))\n",
    "        user_input()      \n",
    "\n",
    "\n",
    "#main()\n"
   ]
  },
  {
   "cell_type": "code",
   "execution_count": null,
   "id": "1a6e69c1-4c7b-4bf7-8679-11adb210e641",
   "metadata": {},
   "outputs": [],
   "source": [
    "6\n"
   ]
  },
  {
   "cell_type": "code",
   "execution_count": null,
   "id": "b29c4682-09e8-43dc-bc22-27cfcbc1ce98",
   "metadata": {},
   "outputs": [],
   "source": []
  }
 ],
 "metadata": {
  "kernelspec": {
   "display_name": "Python [conda env:base] *",
   "language": "python",
   "name": "conda-base-py"
  },
  "language_info": {
   "codemirror_mode": {
    "name": "ipython",
    "version": 3
   },
   "file_extension": ".py",
   "mimetype": "text/x-python",
   "name": "python",
   "nbconvert_exporter": "python",
   "pygments_lexer": "ipython3",
   "version": "3.12.7"
  }
 },
 "nbformat": 4,
 "nbformat_minor": 5
}
