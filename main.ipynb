{
 "cells": [
  {
   "cell_type": "code",
   "execution_count": null,
   "id": "998d7899-24a8-4b3d-a141-3562d871da88",
   "metadata": {},
   "outputs": [],
   "source": [
    "import lms as lm\n",
    "lm.main()"
   ]
  },
  {
   "cell_type": "code",
   "execution_count": null,
   "id": "d6686a35-e3d8-4130-bfb1-f7d984bf59c9",
   "metadata": {},
   "outputs": [],
   "source": []
  },
  {
   "cell_type": "code",
   "execution_count": null,
   "id": "5354cc8c-98fb-44a7-8912-a624c964dcb3",
   "metadata": {},
   "outputs": [],
   "source": []
  }
 ],
 "metadata": {
  "kernelspec": {
   "display_name": "Python [conda env:base] *",
   "language": "python",
   "name": "conda-base-py"
  },
  "language_info": {
   "codemirror_mode": {
    "name": "ipython",
    "version": 3
   },
   "file_extension": ".py",
   "mimetype": "text/x-python",
   "name": "python",
   "nbconvert_exporter": "python",
   "pygments_lexer": "ipython3",
   "version": "3.12.7"
  }
 },
 "nbformat": 4,
 "nbformat_minor": 5
}
